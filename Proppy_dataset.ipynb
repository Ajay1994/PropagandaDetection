{
  "nbformat": 4,
  "nbformat_minor": 0,
  "metadata": {
    "colab": {
      "name": "Proppy_dataset.ipynb",
      "provenance": [],
      "mount_file_id": "1fD6DCUmXQrTaHu-wp3Uuf90Xni_2jCRy",
      "authorship_tag": "ABX9TyM1E8SHAhi0U6GAwo+KS3Gt",
      "include_colab_link": true
    },
    "kernelspec": {
      "name": "python3",
      "display_name": "Python 3"
    }
  },
  "cells": [
    {
      "cell_type": "markdown",
      "metadata": {
        "id": "view-in-github",
        "colab_type": "text"
      },
      "source": [
        "<a href=\"https://colab.research.google.com/github/Ajay1994/PropagandaDetection/blob/master/Proppy_dataset.ipynb\" target=\"_parent\"><img src=\"https://colab.research.google.com/assets/colab-badge.svg\" alt=\"Open In Colab\"/></a>"
      ]
    },
    {
      "cell_type": "code",
      "metadata": {
        "id": "6NNW_cfNS2Ie",
        "colab_type": "code",
        "colab": {
          "base_uri": "https://localhost:8080/",
          "height": 34
        },
        "outputId": "bc084196-dab0-4b4c-f9ba-0ab0db6ef8fb"
      },
      "source": [
        "import os\n",
        "os.chdir('drive/My Drive/Cognitive Vigilance/')\n",
        "!pwd"
      ],
      "execution_count": 1,
      "outputs": [
        {
          "output_type": "stream",
          "text": [
            "/content/drive/My Drive/Cognitive Vigilance\n"
          ],
          "name": "stdout"
        }
      ]
    },
    {
      "cell_type": "code",
      "metadata": {
        "id": "pvTTk2LnV3KE",
        "colab_type": "code",
        "colab": {}
      },
      "source": [
        "import numpy as np\n",
        "import pandas as pd\n",
        "import matplotlib.pyplot as plt "
      ],
      "execution_count": 0,
      "outputs": []
    },
    {
      "cell_type": "code",
      "metadata": {
        "id": "uWw9vcxJV_nA",
        "colab_type": "code",
        "colab": {}
      },
      "source": [
        "_header = [\"article_text\", \"event_location\", \"average_tone\", \"article_date\", \"article_ID\", \"article_URL\", \"MBFC_factuality_label\", \"article_URL\", \"MBFC_factuality_label\", \"URL_to_MBFC_page\", \"source_name\", \"MBFC_notes_about_source\", \"MBFC_bias_label\", \"source_URL\", \"propaganda_label\"]\n",
        "train_dataset = pd.read_csv(\"proppy_1.0.train.tsv\", sep=\"\\t\", header=None)\n",
        "dev_dataset = pd.read_csv(\"proppy_1.0.dev.tsv\", sep=\"\\t\", header=None)\n",
        "test_dataset = pd.read_csv(\"proppy_1.0.test.tsv\", sep=\"\\t\", header=None)\n",
        "train_dataset.columns, dev_dataset.columns, test_dataset.columns = _header, _header, _header"
      ],
      "execution_count": 0,
      "outputs": []
    },
    {
      "cell_type": "code",
      "metadata": {
        "id": "b_MjiUqymYFp",
        "colab_type": "code",
        "colab": {}
      },
      "source": [
        ""
      ],
      "execution_count": 0,
      "outputs": []
    },
    {
      "cell_type": "code",
      "metadata": {
        "id": "IOC71x6MWSNA",
        "colab_type": "code",
        "colab": {
          "base_uri": "https://localhost:8080/",
          "height": 332
        },
        "outputId": "2a8a0112-43ae-4c25-b778-982c9c2f6239"
      },
      "source": [
        "print(\"Train Dataset Length : \", len(train_dataset))\n",
        "print(\"Dev Dataset Length : \", len(dev_dataset))\n",
        "print(\"Test Dataset Length : \", len(test_dataset))\n",
        "train_dataset['propaganda_label'].hist()"
      ],
      "execution_count": 30,
      "outputs": [
        {
          "output_type": "stream",
          "text": [
            "Train Dataset Length :  35986\n",
            "Dev Dataset Length :  5125\n",
            "Test Dataset Length :  10159\n"
          ],
          "name": "stdout"
        },
        {
          "output_type": "execute_result",
          "data": {
            "text/plain": [
              "<matplotlib.axes._subplots.AxesSubplot at 0x7fb3739a9e80>"
            ]
          },
          "metadata": {
            "tags": []
          },
          "execution_count": 30
        },
        {
          "output_type": "display_data",
          "data": {
            "image/png": "[encoded data removed]",
            "text/plain": [
              "<Figure size 432x288 with 1 Axes>"
            ]
          },
          "metadata": {
            "tags": [],
            "needs_background": "light"
          }
        }
      ]
    },
    {
      "cell_type": "code",
      "metadata": {
        "id": "fsceJWDje-FT",
        "colab_type": "code",
        "colab": {}
      },
      "source": [
        "X_train = train_dataset['article_text']\n",
        "Y_train = train_dataset['propaganda_label']\n",
        "X_dev = dev_dataset['article_text']\n",
        "Y_dev = dev_dataset['propaganda_label']\n",
        "X_test = test_dataset['article_text']\n",
        "Y_test = test_dataset['propaganda_label']"
      ],
      "execution_count": 0,
      "outputs": []
    },
    {
      "cell_type": "code",
      "metadata": {
        "id": "tWbkCVwChs05",
        "colab_type": "code",
        "colab": {}
      },
      "source": [
        "from sklearn.feature_extraction.text import CountVectorizer\n",
        "cv = CountVectorizer(binary=True)\n",
        "cv.fit(X_train)\n",
        "XTR = cv.transform(X_train)\n",
        "XD = cv.transform(X_dev)\n",
        "XT = cv.transform(X_test)"
      ],
      "execution_count": 0,
      "outputs": []
    },
    {
      "cell_type": "code",
      "metadata": {
        "id": "SrZOk5Phiib8",
        "colab_type": "code",
        "colab": {
          "base_uri": "https://localhost:8080/",
          "height": 34
        },
        "outputId": "e4dbde56-641f-4efb-de77-5e495000c122"
      },
      "source": [
        "XTR.shape"
      ],
      "execution_count": 29,
      "outputs": [
        {
          "output_type": "execute_result",
          "data": {
            "text/plain": [
              "(35986, 177589)"
            ]
          },
          "metadata": {
            "tags": []
          },
          "execution_count": 29
        }
      ]
    },
    {
      "cell_type": "markdown",
      "metadata": {
        "id": "boFokTr9jID9",
        "colab_type": "text"
      },
      "source": [
        "**Building Classifier** using Logistic Regression [Fine-tuning on various learning rates]"
      ]
    },
    {
      "cell_type": "code",
      "metadata": {
        "id": "h1x79IS0jETh",
        "colab_type": "code",
        "colab": {
          "base_uri": "https://localhost:8080/",
          "height": 101
        },
        "outputId": "0c37dcc8-1310-4584-aea6-3f7d2985916d"
      },
      "source": [
        "from sklearn.linear_model import LogisticRegression\n",
        "from sklearn.metrics import accuracy_score\n",
        "for c in [0.01, 0.05, 0.25, 0.5, 1]:\n",
        "    lr = LogisticRegression(C=c, max_iter = 10000)\n",
        "    lr.fit(XTR, Y_train)\n",
        "    print (\"Accuracy for C=%s: %s\" \n",
        "           % (c, accuracy_score(Y_dev, lr.predict(XD))))"
      ],
      "execution_count": 33,
      "outputs": [
        {
          "output_type": "stream",
          "text": [
            "Accuracy for C=0.01: 0.9596097560975609\n",
            "Accuracy for C=0.05: 0.9633170731707317\n",
            "Accuracy for C=0.25: 0.9642926829268292\n",
            "Accuracy for C=0.5: 0.9629268292682926\n",
            "Accuracy for C=1: 0.9623414634146341\n"
          ],
          "name": "stdout"
        }
      ]
    },
    {
      "cell_type": "markdown",
      "metadata": {
        "id": "ilvf8ObglaAp",
        "colab_type": "text"
      },
      "source": [
        "**Train Final Model** : Best learning rate 0.25"
      ]
    },
    {
      "cell_type": "code",
      "metadata": {
        "id": "p5okAN3QlV2c",
        "colab_type": "code",
        "colab": {
          "base_uri": "https://localhost:8080/",
          "height": 34
        },
        "outputId": "a0b41050-9f2f-42ff-848d-f3de740c1be9"
      },
      "source": [
        "final_model = LogisticRegression(C=0.25, max_iter = 10000)\n",
        "final_model.fit(XTR, Y_train)\n",
        "print (\"Final Accuracy: %s\" \n",
        "       % accuracy_score(Y_test, final_model.predict(XT)))"
      ],
      "execution_count": 34,
      "outputs": [
        {
          "output_type": "stream",
          "text": [
            "Final Accuracy: 0.9622994389211537\n"
          ],
          "name": "stdout"
        }
      ]
    }
  ]
}