{
  "nbformat": 4,
  "nbformat_minor": 0,
  "metadata": {
    "colab": {
      "name": "Proppy_dataset.ipynb",
      "provenance": [],
      "mount_file_id": "1fD6DCUmXQrTaHu-wp3Uuf90Xni_2jCRy",
      "authorship_tag": "ABX9TyOrbIT8GEzUwMlYO3h2nXwH"
    },
    "kernelspec": {
      "name": "python3",
      "display_name": "Python 3"
    }
  },
  "cells": [
    {
      "cell_type": "code",
      "metadata": {
        "id": "6NNW_cfNS2Ie",
        "colab_type": "code",
        "colab": {
          "base_uri": "https://localhost:8080/",
          "height": 34
        },
        "outputId": "bc084196-dab0-4b4c-f9ba-0ab0db6ef8fb"
      },
      "source": [
        "import os\n",
        "os.chdir('drive/My Drive/Cognitive Vigilance/')\n",
        "!pwd"
      ],
      "execution_count": 1,
      "outputs": [
        {
          "output_type": "stream",
          "text": [
            "/content/drive/My Drive/Cognitive Vigilance\n"
          ],
          "name": "stdout"
        }
      ]
    },
    {
      "cell_type": "code",
      "metadata": {
        "id": "pvTTk2LnV3KE",
        "colab_type": "code",
        "colab": {}
      },
      "source": [
        "import numpy as np\n",
        "import pandas as pd\n",
        "import matplotlib.pyplot as plt "
      ],
      "execution_count": 0,
      "outputs": []
    },
    {
      "cell_type": "code",
      "metadata": {
        "id": "uWw9vcxJV_nA",
        "colab_type": "code",
        "colab": {}
      },
      "source": [
        "_header = [\"article_text\", \"event_location\", \"average_tone\", \"article_date\", \"article_ID\", \"article_URL\", \"MBFC_factuality_label\", \"article_URL\", \"MBFC_factuality_label\", \"URL_to_MBFC_page\", \"source_name\", \"MBFC_notes_about_source\", \"MBFC_bias_label\", \"source_URL\", \"propaganda_label\"]\n",
        "train_dataset = pd.read_csv(\"proppy_1.0.train.tsv\", sep=\"\\t\", header=None)\n",
        "dev_dataset = pd.read_csv(\"proppy_1.0.dev.tsv\", sep=\"\\t\", header=None)\n",
        "test_dataset = pd.read_csv(\"proppy_1.0.test.tsv\", sep=\"\\t\", header=None)\n",
        "train_dataset.columns, dev_dataset.columns, test_dataset.columns = _header, _header, _header"
      ],
      "execution_count": 0,
      "outputs": []
    },
    {
      "cell_type": "code",
      "metadata": {
        "id": "16EtlAzrtY8k",
        "colab_type": "code",
        "colab": {
          "base_uri": "https://localhost:8080/",
          "height": 54
        },
        "outputId": "ae4b5f1c-04af-41fc-cac2-cfe3c65c13fe"
      },
      "source": [
        "print(train_dataset['article_text'][0])"
      ],
      "execution_count": 44,
      "outputs": [
        {
          "output_type": "stream",
          "text": [
            "Et tu, Rhody?  A recent editorial in the Providence Journal cataloged everything it could find wrong with Connecticut and ended with this suggestion: “Gov. Gina Raimondo should see if at least some of those jobs could come to Rhode Island. It is certainly less risky than the Nutmeg State.”  We beg your pardon.  The state with world-famous pension problems and persistent economic issues of its own is “less risky”?  The Journal itself reported just a few weeks ago on Rhode Island’s own significant economic problems, which in many ways reflect Connecticut’s.  Rhode Island enjoys a legacy of corruption that not even Connecticut can match. The ProJo won a Pulitzer Prize in 1994 for uncovering widespread corruption within its own court system.  What, exactly, is to be gained from moving to Rhode Island?  Like Connecticut, Rhode Island has an income tax and an estate tax with comparable rates. (Forbes magazine listed it as one of the states “Where Not To Die.” Connecticut made the list, too.)  Connecticut and Rhode Island’s interdependence has been limited, with the exception of the interstate economy created by Electric Boat in Groton. There have been no border wars and very little bloodshed. A few jokes about Rhode Island’s size, maybe, but if we’re being honest, Connecticut doesn’t really have a lot going on in that department either.  A little interstate competition is fine, but if Connecticut suffers, so does Rhode Island — and all of New England, for that matter.  Connecticut is losing residents at a troubling rate, but Rhode Island has an outmigration problem of its own. From 2015 to 2016, the Ocean State experienced a net loss of about 2,000 tax filers, who took with them more than $182 million in adjusted gross income. The top destination states for people who fled Rhode Island were Massachusetts, Florida and — wait for it — Connecticut.  Connecticut residents moved to Rhode Island as well, of course. But Connecticut’s population is 3½ times as big as Rhode Island’s. So the 1,175 tax filers who left Rhode Island for Connecticut represent a far larger portion of the Ocean State than the 1,220 who moved from Connecticut to Rhode Island. If any state should be concerned about losing residents to its neighbor, it’s Rhode Island.  But we don’t want to poach Rhode Islanders. We’d rather celebrate Electric Boat’s growth and the burgeoning workforce that supports both states. We’d rather cheer CVS for buying Aetna and keeping it in Hartford than try to woo CVS from Woonsocket.  A booming Connecticut, especially in the insurance and defense industries, only helps Rhode Island.  As Electric Boat — headquartered in Connecticut, might we emphasize — grows over the next decade, the effect on Little Rhody will be profound, as the ProJo’s editorial board pointed out. A thriving border economy helps both states as supplier chains develop and as feeder businesses bloom.  But for the same reasons that the stain of a Hartford bankruptcy would spread to the suburbs, if Connecticut becomes an economic wasteland, the effects would be felt across New England.  If Rhode Island and Connecticut want to find a way out of the muck, far better for them to work together.  Yes, Connecticut can learn from Rhode Island. Connecticut’s pension problems are similar to those that threatened to swamp Rhode Island, but there are key differences, especially in that Connecticut’s pensions are contractual, where in Rhode Island, they were set by state statute.  Rhode Island made some tough choices and anticipated a legal battle to solve its problems. Connecticut leaders might have to find the stomach for the same type of strategy.  Connecticut and Rhode Island have a lot in common, including language. We both drive around the rotary to get a grinder at Cumbie’s, for example. And we are glad that Rhode Island has made progress on its pension issues.  But that’s no reason to try to poach a few residents. A regional approach would be much wiser.\n"
          ],
          "name": "stdout"
        }
      ]
    },
    {
      "cell_type": "code",
      "metadata": {
        "id": "IOC71x6MWSNA",
        "colab_type": "code",
        "colab": {
          "base_uri": "https://localhost:8080/",
          "height": 332
        },
        "outputId": "7ab08cf2-5a00-4a1a-d530-85c73a2e0d5d"
      },
      "source": [
        "print(\"Train Dataset Length : \", len(train_dataset))\n",
        "print(\"Dev Dataset Length : \", len(dev_dataset))\n",
        "print(\"Test Dataset Length : \", len(test_dataset))\n",
        "train_dataset['propaganda_label'].hist()\n",
        "test_dataset['propaganda_label'].hist()"
      ],
      "execution_count": 41,
      "outputs": [
        {
          "output_type": "stream",
          "text": [
            "Train Dataset Length :  35986\n",
            "Dev Dataset Length :  5125\n",
            "Test Dataset Length :  10159\n"
          ],
          "name": "stdout"
        },
        {
          "output_type": "execute_result",
          "data": {
            "text/plain": [
              "<matplotlib.axes._subplots.AxesSubplot at 0x7fb3657631d0>"
            ]
          },
          "metadata": {
            "tags": []
          },
          "execution_count": 41
        },
        {
          "output_type": "display_data",
          "data": {
            "image/png": "[encoded data removed]",
            "text/plain": [
              "<Figure size 432x288 with 1 Axes>"
            ]
          },
          "metadata": {
            "tags": [],
            "needs_background": "light"
          }
        }
      ]
    },
    {
      "cell_type": "code",
      "metadata": {
        "id": "fsceJWDje-FT",
        "colab_type": "code",
        "colab": {}
      },
      "source": [
        "X_train = train_dataset['article_text']\n",
        "Y_train = train_dataset['propaganda_label']\n",
        "X_dev = dev_dataset['article_text']\n",
        "Y_dev = dev_dataset['propaganda_label']\n",
        "X_test = test_dataset['article_text']\n",
        "Y_test = test_dataset['propaganda_label']"
      ],
      "execution_count": 0,
      "outputs": []
    },
    {
      "cell_type": "code",
      "metadata": {
        "id": "tWbkCVwChs05",
        "colab_type": "code",
        "colab": {}
      },
      "source": [
        "from sklearn.feature_extraction.text import CountVectorizer\n",
        "cv = CountVectorizer(binary=True)\n",
        "cv.fit(X_train)\n",
        "XTR = cv.transform(X_train)\n",
        "XD = cv.transform(X_dev)\n",
        "XT = cv.transform(X_test)"
      ],
      "execution_count": 0,
      "outputs": []
    },
    {
      "cell_type": "code",
      "metadata": {
        "id": "SrZOk5Phiib8",
        "colab_type": "code",
        "colab": {
          "base_uri": "https://localhost:8080/",
          "height": 34
        },
        "outputId": "e4dbde56-641f-4efb-de77-5e495000c122"
      },
      "source": [
        "XTR.shape"
      ],
      "execution_count": 29,
      "outputs": [
        {
          "output_type": "execute_result",
          "data": {
            "text/plain": [
              "(35986, 177589)"
            ]
          },
          "metadata": {
            "tags": []
          },
          "execution_count": 29
        }
      ]
    },
    {
      "cell_type": "markdown",
      "metadata": {
        "id": "boFokTr9jID9",
        "colab_type": "text"
      },
      "source": [
        "**Building Classifier** using Logistic Regression [Fine-tuning on various learning rates]"
      ]
    },
    {
      "cell_type": "code",
      "metadata": {
        "id": "h1x79IS0jETh",
        "colab_type": "code",
        "colab": {
          "base_uri": "https://localhost:8080/",
          "height": 101
        },
        "outputId": "0c37dcc8-1310-4584-aea6-3f7d2985916d"
      },
      "source": [
        "from sklearn.linear_model import LogisticRegression\n",
        "from sklearn.metrics import accuracy_score\n",
        "for c in [0.01, 0.05, 0.25, 0.5, 1]:\n",
        "    lr = LogisticRegression(C=c, max_iter = 10000)\n",
        "    lr.fit(XTR, Y_train)\n",
        "    print (\"Accuracy for C=%s: %s\" \n",
        "           % (c, accuracy_score(Y_dev, lr.predict(XD))))"
      ],
      "execution_count": 33,
      "outputs": [
        {
          "output_type": "stream",
          "text": [
            "Accuracy for C=0.01: 0.9596097560975609\n",
            "Accuracy for C=0.05: 0.9633170731707317\n",
            "Accuracy for C=0.25: 0.9642926829268292\n",
            "Accuracy for C=0.5: 0.9629268292682926\n",
            "Accuracy for C=1: 0.9623414634146341\n"
          ],
          "name": "stdout"
        }
      ]
    },
    {
      "cell_type": "markdown",
      "metadata": {
        "id": "ilvf8ObglaAp",
        "colab_type": "text"
      },
      "source": [
        "**Train Final Model** : Best learning rate 0.25"
      ]
    },
    {
      "cell_type": "code",
      "metadata": {
        "id": "p5okAN3QlV2c",
        "colab_type": "code",
        "colab": {
          "base_uri": "https://localhost:8080/",
          "height": 34
        },
        "outputId": "a0b41050-9f2f-42ff-848d-f3de740c1be9"
      },
      "source": [
        "final_model = LogisticRegression(C=0.25, max_iter = 10000)\n",
        "final_model.fit(XTR, Y_train)\n",
        "print (\"Final Accuracy: %s\" \n",
        "       % accuracy_score(Y_test, final_model.predict(XT)))"
      ],
      "execution_count": 34,
      "outputs": [
        {
          "output_type": "stream",
          "text": [
            "Final Accuracy: 0.9622994389211537\n"
          ],
          "name": "stdout"
        }
      ]
    },
    {
      "cell_type": "markdown",
      "metadata": {
        "id": "-HnJFZ45pktl",
        "colab_type": "text"
      },
      "source": [
        "**Accuracy Analysis**"
      ]
    },
    {
      "cell_type": "code",
      "metadata": {
        "id": "MH4pxwRSpjqq",
        "colab_type": "code",
        "colab": {
          "base_uri": "https://localhost:8080/",
          "height": 554
        },
        "outputId": "15aa74af-35a6-48e8-abc3-b266f0ecc0b2"
      },
      "source": [
        "from sklearn.metrics import confusion_matrix \n",
        "from sklearn.metrics import accuracy_score \n",
        "from sklearn.metrics import classification_report \n",
        "print(\"Train Accuracy Analysis\")\n",
        "print(\"--------------------------------------------------------------------\")\n",
        "results = confusion_matrix(Y_train, final_model.predict(XTR)) \n",
        "print (\"Confusion Matrix :\")\n",
        "print (results) \n",
        "print (\"Final Accuracy: %s\" % accuracy_score(Y_train, final_model.predict(XTR)))\n",
        "print ('Report : ')\n",
        "print (classification_report(Y_train, final_model.predict(XTR)))\n",
        "\n",
        "print(\"Test Accuracy Analysis\")\n",
        "print(\"--------------------------------------------------------------------\")\n",
        "results = confusion_matrix(Y_test, final_model.predict(XT)) \n",
        "print (\"Confusion Matrix :\")\n",
        "print (results) \n",
        "print (\"Final Accuracy: %s\" % accuracy_score(Y_test, final_model.predict(XT)))\n",
        "print ('Report : ')\n",
        "print (classification_report(Y_test, final_model.predict(XT)))"
      ],
      "execution_count": 40,
      "outputs": [
        {
          "output_type": "stream",
          "text": [
            "Train Accuracy Analysis\n",
            "--------------------------------------------------------------------\n",
            "Confusion Matrix :\n",
            "[[31965     0]\n",
            " [   27  3994]]\n",
            "Final Accuracy: 0.9992497082198633\n",
            "Report : \n",
            "              precision    recall  f1-score   support\n",
            "\n",
            "          -1       1.00      1.00      1.00     31965\n",
            "           1       1.00      0.99      1.00      4021\n",
            "\n",
            "    accuracy                           1.00     35986\n",
            "   macro avg       1.00      1.00      1.00     35986\n",
            "weighted avg       1.00      1.00      1.00     35986\n",
            "\n",
            "Test Accuracy Analysis\n",
            "--------------------------------------------------------------------\n",
            "Confusion Matrix :\n",
            "[[8897  122]\n",
            " [ 261  879]]\n",
            "Final Accuracy: 0.9622994389211537\n",
            "Report : \n",
            "              precision    recall  f1-score   support\n",
            "\n",
            "          -1       0.97      0.99      0.98      9019\n",
            "           1       0.88      0.77      0.82      1140\n",
            "\n",
            "    accuracy                           0.96     10159\n",
            "   macro avg       0.92      0.88      0.90     10159\n",
            "weighted avg       0.96      0.96      0.96     10159\n",
            "\n"
          ],
          "name": "stdout"
        }
      ]
    }
  ]
}